{
 "cells": [
  {
   "cell_type": "code",
   "execution_count": 1,
   "metadata": {},
   "outputs": [],
   "source": [
    "import sys\n",
    "sys.path.append('..')  # go up to 'data_structures_python'\n",
    "                  \n",
    "from danielle import Graph"
   ]
  },
  {
   "cell_type": "code",
   "execution_count": 2,
   "metadata": {},
   "outputs": [
    {
     "name": "stdout",
     "output_type": "stream",
     "text": [
      "A → [('B', 1), ('C', 1)]\n",
      "B → [('D', 1)]\n",
      "C → [('D', 1)]\n",
      "D → []\n",
      "DFS: ['A', 'B', 'D', 'C']\n",
      "BFS: ['A', 'B', 'C', 'D']\n"
     ]
    }
   ],
   "source": [
    "\n",
    "\n",
    "g = Graph(directed=True)\n",
    "g.add_edge(\"A\", \"B\")\n",
    "g.add_edge(\"A\", \"C\")\n",
    "g.add_edge(\"B\", \"D\")\n",
    "g.add_edge(\"C\", \"D\")\n",
    "g.display()\n",
    "\n",
    "print(\"DFS:\", g.dfs(\"A\"))  # ['A', 'B', 'D', 'C']\n",
    "print(\"BFS:\", g.bfs(\"A\"))  # ['A', 'B', 'C', 'D']\n"
   ]
  }
 ],
 "metadata": {
  "kernelspec": {
   "display_name": "3.13.2",
   "language": "python",
   "name": "python3"
  },
  "language_info": {
   "codemirror_mode": {
    "name": "ipython",
    "version": 3
   },
   "file_extension": ".py",
   "mimetype": "text/x-python",
   "name": "python",
   "nbconvert_exporter": "python",
   "pygments_lexer": "ipython3",
   "version": "3.13.2"
  }
 },
 "nbformat": 4,
 "nbformat_minor": 2
}
