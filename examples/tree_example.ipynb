{
 "cells": [
  {
   "cell_type": "code",
   "execution_count": 1,
   "metadata": {},
   "outputs": [],
   "source": [
    "import sys\n",
    "sys.path.append('..')  # go up to 'data_structures_python'"
   ]
  },
  {
   "cell_type": "code",
   "execution_count": 3,
   "metadata": {},
   "outputs": [
    {
     "name": "stdout",
     "output_type": "stream",
     "text": [
      "Inorder: [5, 10, 15]\n",
      "Min: 5\n",
      "Max: 15\n",
      "Inorder after deleting 10: [5, 15]\n"
     ]
    }
   ],
   "source": [
    "from danielle import BinarySearchTree\n",
    "\n",
    "bst = BinarySearchTree()\n",
    "bst.insert(10)\n",
    "bst.insert(5)\n",
    "bst.insert(15)\n",
    "print(\"Inorder:\", bst.inorder())  # [5, 10, 15]\n",
    "print(\"Min:\", bst.find_min())     # 5\n",
    "print(\"Max:\", bst.find_max())     # 15\n",
    "bst.delete(10)\n",
    "print(\"Inorder after deleting 10:\", bst.inorder())  # [5, 15]\n"
   ]
  }
 ],
 "metadata": {
  "kernelspec": {
   "display_name": "3.13.2",
   "language": "python",
   "name": "python3"
  },
  "language_info": {
   "codemirror_mode": {
    "name": "ipython",
    "version": 3
   },
   "file_extension": ".py",
   "mimetype": "text/x-python",
   "name": "python",
   "nbconvert_exporter": "python",
   "pygments_lexer": "ipython3",
   "version": "3.13.2"
  }
 },
 "nbformat": 4,
 "nbformat_minor": 2
}
