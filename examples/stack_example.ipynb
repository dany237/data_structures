{
 "cells": [
  {
   "cell_type": "code",
   "execution_count": 1,
   "metadata": {},
   "outputs": [],
   "source": [
    "import sys\n",
    "sys.path.append('..')  # go up to 'data_structures_python'\n",
    "\n",
    "from danielle import Stack"
   ]
  },
  {
   "cell_type": "code",
   "execution_count": 3,
   "metadata": {},
   "outputs": [
    {
     "name": "stdout",
     "output_type": "stream",
     "text": [
      "Is empty? True\n",
      "Stack after pushes:\n",
      "[10, 20, 30]\n",
      "Top element: 30\n",
      "Pop element: 30\n",
      "Stack after pop:\n",
      "[10, 20]\n",
      "Is empty? False\n"
     ]
    }
   ],
   "source": [
    "s = Stack()\n",
    "\n",
    "print(\"Is empty?\", s.isEmpty())   # True\n",
    "\n",
    "s.push(10)\n",
    "s.push(20)\n",
    "s.push(30)\n",
    "\n",
    "print(\"Stack after pushes:\")\n",
    "s.display_stack()                 # [10, 20, 30]\n",
    "\n",
    "print(\"Top element:\", s.top())    # 30\n",
    "\n",
    "print(\"Pop element:\", s.pop())    # 30\n",
    "print(\"Stack after pop:\")\n",
    "s.display_stack()                 # [10, 20]\n",
    "\n",
    "print(\"Is empty?\", s.isEmpty())   # False\n"
   ]
  }
 ],
 "metadata": {
  "kernelspec": {
   "display_name": "3.13.2",
   "language": "python",
   "name": "python3"
  },
  "language_info": {
   "codemirror_mode": {
    "name": "ipython",
    "version": 3
   },
   "file_extension": ".py",
   "mimetype": "text/x-python",
   "name": "python",
   "nbconvert_exporter": "python",
   "pygments_lexer": "ipython3",
   "version": "3.13.2"
  }
 },
 "nbformat": 4,
 "nbformat_minor": 2
}
