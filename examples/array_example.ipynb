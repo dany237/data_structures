{
 "cells": [
  {
   "cell_type": "code",
   "execution_count": 1,
   "metadata": {},
   "outputs": [],
   "source": [
    "import sys\n",
    "sys.path.append('..')  # go up to 'data_structures_python'\n",
    "\n",
    "from danielle import Array\n"
   ]
  },
  {
   "cell_type": "code",
   "execution_count": 2,
   "metadata": {},
   "outputs": [
    {
     "name": "stdout",
     "output_type": "stream",
     "text": [
      "[10, 20, 30]\n",
      "[10, 15, 20, 30]\n",
      "[10, 15, 30]\n",
      "30\n",
      "[10, 15]\n",
      "15\n",
      "[10, 99]\n",
      "0\n",
      "2\n",
      "[]\n"
     ]
    }
   ],
   "source": [
    "arr = Array()\n",
    "\n",
    "arr.append(10)\n",
    "arr.append(20)\n",
    "arr.append(30)\n",
    "arr.display()        # [10, 20, 30]\n",
    "\n",
    "arr.insert(1, 15)\n",
    "arr.display()        # [10, 15, 20, 30]\n",
    "\n",
    "arr.remove(20)\n",
    "arr.display()        # [10, 15, 30]\n",
    "\n",
    "print(arr.pop())     # 30\n",
    "arr.display()        # [10, 15]\n",
    "\n",
    "print(arr.get(1))    # 15\n",
    "\n",
    "arr.set(1, 99)\n",
    "arr.display()        # [10, 99]\n",
    "\n",
    "print(arr.find(10))  # 0\n",
    "print(arr.length())  # 2\n",
    "\n",
    "arr.clear()\n",
    "arr.display()        # []\n"
   ]
  }
 ],
 "metadata": {
  "kernelspec": {
   "display_name": "3.13.2",
   "language": "python",
   "name": "python3"
  },
  "language_info": {
   "codemirror_mode": {
    "name": "ipython",
    "version": 3
   },
   "file_extension": ".py",
   "mimetype": "text/x-python",
   "name": "python",
   "nbconvert_exporter": "python",
   "pygments_lexer": "ipython3",
   "version": "3.13.2"
  }
 },
 "nbformat": 4,
 "nbformat_minor": 2
}
