{
 "cells": [
  {
   "cell_type": "code",
   "execution_count": 9,
   "metadata": {},
   "outputs": [],
   "source": [
    "import sys\n",
    "sys.path.append('..')  # go up to 'data_structures_python'\n",
    "\n",
    "from danielle import DoublyLinkedList"
   ]
  },
  {
   "cell_type": "code",
   "execution_count": 10,
   "metadata": {},
   "outputs": [
    {
     "name": "stdout",
     "output_type": "stream",
     "text": [
      "5 ⇄ 7 ⇄ 10\n",
      "10 ⇄ 7 ⇄ 5\n",
      "10 ⇄ 5\n"
     ]
    }
   ],
   "source": [
    "\n",
    "\n",
    "dll = DoublyLinkedList()\n",
    "dll.insert_at_end(10)\n",
    "dll.insert_at_beginning(5)\n",
    "dll.insert_at_position(7, 1)\n",
    "dll.display_forward()     # Output: 5 ⇄ 7 ⇄ 10\n",
    "dll.display_backward()    # Output: 10 ⇄ 7 ⇄ 5\n",
    "\n",
    "dll.delete_value(7)\n",
    "dll.reverse()\n",
    "dll.display_forward()     # Output: 10 ⇄ 5\n"
   ]
  }
 ],
 "metadata": {
  "kernelspec": {
   "display_name": "3.13.2",
   "language": "python",
   "name": "python3"
  },
  "language_info": {
   "codemirror_mode": {
    "name": "ipython",
    "version": 3
   },
   "file_extension": ".py",
   "mimetype": "text/x-python",
   "name": "python",
   "nbconvert_exporter": "python",
   "pygments_lexer": "ipython3",
   "version": "3.13.2"
  }
 },
 "nbformat": 4,
 "nbformat_minor": 2
}
