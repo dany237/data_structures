{
 "cells": [
  {
   "cell_type": "code",
   "execution_count": 1,
   "metadata": {},
   "outputs": [],
   "source": [
    "import sys\n",
    "sys.path.append('..')  # go up to 'data_structures_python'\n",
    "\n",
    "from danielle import CircularLinkedList\n"
   ]
  },
  {
   "cell_type": "code",
   "execution_count": 9,
   "metadata": {},
   "outputs": [
    {
     "name": "stdout",
     "output_type": "stream",
     "text": [
      "5 → 10 → 20 → (back to head)\n",
      "5 → 20 → (back to head)\n",
      "Length: 2\n"
     ]
    }
   ],
   "source": [
    "\n",
    "\n",
    "cll = CircularLinkedList()\n",
    "cll.insert_at_end(10)\n",
    "cll.insert_at_end(20)\n",
    "cll.insert_at_beginning(5)\n",
    "cll.display()   # Output: 5 → 10 → 20 → (back to head)\n",
    "\n",
    "cll.delete(10)\n",
    "cll.display()   # Output: 5 → 20 → (back to head)\n",
    "print(\"Length:\", cll.length())  # Output: 2\n"
   ]
  }
 ],
 "metadata": {
  "kernelspec": {
   "display_name": "3.13.2",
   "language": "python",
   "name": "python3"
  },
  "language_info": {
   "codemirror_mode": {
    "name": "ipython",
    "version": 3
   },
   "file_extension": ".py",
   "mimetype": "text/x-python",
   "name": "python",
   "nbconvert_exporter": "python",
   "pygments_lexer": "ipython3",
   "version": "3.13.2"
  }
 },
 "nbformat": 4,
 "nbformat_minor": 2
}
